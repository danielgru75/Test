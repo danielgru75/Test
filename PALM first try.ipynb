{
  "nbformat": 4,
  "nbformat_minor": 0,
  "metadata": {
    "colab": {
      "provenance": [],
      "machine_shape": "hm",
      "authorship_tag": "ABX9TyOiVuZjG+Q78LsOOzWzXfr9",
      "include_colab_link": true
    },
    "kernelspec": {
      "name": "python3",
      "display_name": "Python 3"
    },
    "language_info": {
      "name": "python"
    },
    "gpuClass": "standard",
    "accelerator": "TPU"
  },
  "cells": [
    {
      "cell_type": "markdown",
      "metadata": {
        "id": "view-in-github",
        "colab_type": "text"
      },
      "source": [
        "<a href=\"https://colab.research.google.com/github/danielgru75/Test/blob/main/PALM%20first%20try.ipynb\" target=\"_parent\"><img src=\"https://colab.research.google.com/assets/colab-badge.svg\" alt=\"Open In Colab\"/></a>"
      ]
    },
    {
      "cell_type": "code",
      "source": [
        "pip install PaLM-pytorch"
      ],
      "metadata": {
        "id": "aTA0q4eLVr3D",
        "colab": {
          "base_uri": "https://localhost:8080/"
        },
        "outputId": "c5cd9f33-0b00-47d7-f6a1-c6b757f368db"
      },
      "execution_count": 2,
      "outputs": [
        {
          "output_type": "stream",
          "name": "stdout",
          "text": [
            "Looking in indexes: https://pypi.org/simple, https://us-python.pkg.dev/colab-wheels/public/simple/\n",
            "Collecting PaLM-pytorch\n",
            "  Downloading PaLM_pytorch-0.2.2-py3-none-any.whl (12 kB)\n",
            "Collecting triton>=2.0dev\n",
            "  Downloading triton-2.0.0-cp39-cp39-manylinux_2_17_x86_64.manylinux2014_x86_64.whl (63.3 MB)\n",
            "\u001b[2K     \u001b[90m━━━━━━━━━━━━━━━━━━━━━━━━━━━━━━━━━━━━━━━━\u001b[0m \u001b[32m63.3/63.3 MB\u001b[0m \u001b[31m28.0 MB/s\u001b[0m eta \u001b[36m0:00:00\u001b[0m\n",
            "\u001b[?25hRequirement already satisfied: torch>=1.6 in /usr/local/lib/python3.9/dist-packages (from PaLM-pytorch) (1.13.1+cu116)\n",
            "Collecting einops>=0.4\n",
            "  Downloading einops-0.6.0-py3-none-any.whl (41 kB)\n",
            "\u001b[2K     \u001b[90m━━━━━━━━━━━━━━━━━━━━━━━━━━━━━━━━━━━━━━━━\u001b[0m \u001b[32m41.6/41.6 KB\u001b[0m \u001b[31m4.5 MB/s\u001b[0m eta \u001b[36m0:00:00\u001b[0m\n",
            "\u001b[?25hRequirement already satisfied: typing-extensions in /usr/local/lib/python3.9/dist-packages (from torch>=1.6->PaLM-pytorch) (4.5.0)\n",
            "Requirement already satisfied: cmake in /usr/local/lib/python3.9/dist-packages (from triton>=2.0dev->PaLM-pytorch) (3.22.6)\n",
            "Collecting lit\n",
            "  Downloading lit-15.0.7.tar.gz (132 kB)\n",
            "\u001b[2K     \u001b[90m━━━━━━━━━━━━━━━━━━━━━━━━━━━━━━━━━━━━━━\u001b[0m \u001b[32m132.3/132.3 KB\u001b[0m \u001b[31m14.5 MB/s\u001b[0m eta \u001b[36m0:00:00\u001b[0m\n",
            "\u001b[?25h  Preparing metadata (setup.py) ... \u001b[?25l\u001b[?25hdone\n",
            "Requirement already satisfied: filelock in /usr/local/lib/python3.9/dist-packages (from triton>=2.0dev->PaLM-pytorch) (3.9.1)\n",
            "Building wheels for collected packages: lit\n",
            "  Building wheel for lit (setup.py) ... \u001b[?25l\u001b[?25hdone\n",
            "  Created wheel for lit: filename=lit-15.0.7-py3-none-any.whl size=90003 sha256=c139013e7167e37990102eb6645f6b5a0f3d0e378a439b0e6b434514738ebf69\n",
            "  Stored in directory: /root/.cache/pip/wheels/b7/68/18/2ad49b416abb9139c8217c349fd9df0674da8f0d1952db2ea5\n",
            "Successfully built lit\n",
            "Installing collected packages: lit, einops, triton, PaLM-pytorch\n",
            "Successfully installed PaLM-pytorch-0.2.2 einops-0.6.0 lit-15.0.7 triton-2.0.0\n"
          ]
        }
      ]
    },
    {
      "cell_type": "code",
      "source": [
        "import torch\n",
        "from palm_pytorch import PaLM\n",
        "\n",
        "palm = PaLM(\n",
        "    num_tokens = 256000,\n",
        "    dim = 1024,\n",
        "    depth = 12,\n",
        "    heads = 48,\n",
        "    dim_head = 256,\n",
        ")\n",
        "\n",
        "tokens = torch.randint(0, 20000, (1, 2048))\n",
        "logits = palm(tokens) # (1, 2048, 20000)"
      ],
      "metadata": {
        "id": "c6s_hYlpV2M_"
      },
      "execution_count": 1,
      "outputs": []
    },
    {
      "cell_type": "code",
      "source": [
        "palm = PaLM(\n",
        "    num_tokens = 256000,\n",
        "    dim = 18432,\n",
        "    depth = 118,\n",
        "    heads = 48,\n",
        "    dim_head = 256\n",
        ")"
      ],
      "metadata": {
        "id": "H7YmJGBhYEHy"
      },
      "execution_count": null,
      "outputs": []
    },
    {
      "cell_type": "code",
      "source": [
        "$ python train.py"
      ],
      "metadata": {
        "id": "_txeeKd2WHEJ"
      },
      "execution_count": null,
      "outputs": []
    }
  ]
}